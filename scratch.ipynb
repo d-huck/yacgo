{
 "cells": [
  {
   "cell_type": "code",
   "execution_count": 1,
   "metadata": {},
   "outputs": [
    {
     "name": "stdout",
     "output_type": "stream",
     "text": [
      "torch.Size([1, 12, 19, 19])\n"
     ]
    }
   ],
   "source": [
    "%reload_ext autoreload\n",
    "%autoreload 2\n",
    "from urllib.request import urlopen\n",
    "import torch\n",
    "from PIL import Image\n",
    "from yacgo.model import EfficientFormerV2\n",
    "\n",
    "img = Image.open(\n",
    "    urlopen('https://huggingface.co/datasets/huggingface/documentation-images/resolve/main/beignets-task-guide.png'))\n",
    "\n",
    "device = \"cuda\" if torch.cuda.is_available() else \"mps\"\n",
    "# print(device)\n",
    "\n",
    "# model = timm.create_model('efficientformerv2_s0.snap_dist_in1k', pretrained=True, img_size=19, in_chans=12)\n",
    "# model = model.eval().to(device)\n",
    "board_size = 19\n",
    "model = EfficientFormerV2(\n",
    "    depths=[2, 2, 6, 4],\n",
    "    in_chans=12, # num of game state channels\n",
    "    img_size=board_size,\n",
    "    embed_dims=(32, 64, 96, 172),\n",
    "    downsamples=(False, True, True, True),\n",
    "    num_vit=2,\n",
    "    mlp_ratios=(4, 4, (4, 3, 3, 3, 4, 4), (4, 3, 3, 4)),\n",
    "    num_classes=board_size**2 + 1  \n",
    ")\n",
    "\n",
    "inputs = torch.randn(1, 12, board_size, board_size)\n",
    "print(inputs.shape)\n",
    "_ = model(inputs)"
   ]
  },
  {
   "cell_type": "code",
   "execution_count": 2,
   "metadata": {},
   "outputs": [],
   "source": [
    "model = model.to(device)"
   ]
  },
  {
   "cell_type": "code",
   "execution_count": 3,
   "metadata": {},
   "outputs": [
    {
     "name": "stdout",
     "output_type": "stream",
     "text": [
      "Batch size: 256\n",
      "=====================================\n",
      "Average inference latency per batch:  0.0151 seconds\n",
      "average inference latency per example:  0.0000590 seconds\n",
      "1000 inferences in 15.11 seconds\n",
      "\n"
     ]
    }
   ],
   "source": [
    "c = 1_000\n",
    "chans = 12\n",
    "bs = [256]\n",
    "import time\n",
    "\n",
    "data = torch.randn(bs[0], chans, board_size, board_size).to(device)\n",
    "for _ in range(100):\n",
    "    _ = model(data)\n",
    "    \n",
    "for b in bs:\n",
    "    data = torch.randn(b, chans, board_size, board_size).to(device)\n",
    "    start = time.time()\n",
    "    for _ in range(c):\n",
    "        _ = model(data)\n",
    "    end = time.time()\n",
    "    print(f\"Batch size: {b}\")\n",
    "    print(\"=====================================\")\n",
    "    print(f\"Average inference latency per batch: {(end - start) / c: .4f} seconds\")\n",
    "    print(f\"average inference latency per example: {(end - start) / c / b: .7f} seconds\")\n",
    "    print(f\"1000 inferences in {end - start:.2f} seconds\")\n",
    "    print()"
   ]
  },
  {
   "cell_type": "code",
   "execution_count": 19,
   "metadata": {},
   "outputs": [
    {
     "name": "stdout",
     "output_type": "stream",
     "text": [
      "Average inference latency per batch:  0.0296 seconds\n",
      "average inference latency per example:  0.0018483 seconds\n",
      "1000 inferences in 29.57 seconds\n"
     ]
    }
   ],
   "source": [
    "c = 1_000\n",
    "bs = \n",
    "import time\n",
    "img = Image.open(\n",
    "    urlopen('https://huggingface.co/datasets/huggingface/documentation-images/resolve/main/beignets-task-guide.png'))\n",
    "img = transforms(img)\n",
    "img = [img for _ in range(bs)]\n",
    "img = torch.stack(img).to(device)\n",
    "\n",
    "\n",
    "for _ in range(100):\n",
    "    _ = model(img)\n",
    "\n",
    "start = time.time()\n",
    "for _ in range(c):\n",
    "    _ = model(img)\n",
    "end = time.time()\n",
    "\n",
    "print(f\"Average inference latency per batch: {(end - start) / c: .4f} seconds\")\n",
    "print(f\"average inference latency per example: {(end - start) / c / bs: .7f} seconds\")\n",
    "print(f\"1000 inferences in {end - start:.2f} seconds\")"
   ]
  },
  {
   "cell_type": "code",
   "execution_count": null,
   "metadata": {},
   "outputs": [],
   "source": [
    "# https://stackoverflow.com/questions/73764403/how-can-a-zmq-server-process-requests-in-batches\n",
    "\n",
    "import msgpack\n",
    "import multiprocessing as mp\n",
    "import numpy as np\n",
    "import time\n",
    "import uuid\n",
    "import zmq\n",
    "\n",
    "def computation(inputs):\n",
    "  time.sleep(1)  # Simulate constant GPU overhead.\n",
    "  results = np.zeros((len(inputs), 8))\n",
    "  return results\n",
    "\n",
    "def server(port, batch=10):\n",
    "  context = zmq.Context.instance()\n",
    "  socket = context.socket(zmq.ROUTER)\n",
    "  socket.bind(f'tcp://*:{port}')\n",
    "  while True:\n",
    "    inputs = np.empty((batch, 64))\n",
    "    addresses = []\n",
    "    for i in range(batch):\n",
    "      address, empty, payload = socket.recv_multipart()\n",
    "      inputs[i] = unpack(payload)\n",
    "      addresses.append(address)\n",
    "    print('Collected request batch.', flush=True)\n",
    "    results = computation(inputs)\n",
    "    for i, address in enumerate(addresses):\n",
    "      payload = pack(results[i])\n",
    "      socket.send_multipart([address, b'', payload])\n",
    "    print('Send response batch.', flush=True)\n",
    "\n",
    "def client(ports):\n",
    "  context = zmq.Context.instance()\n",
    "  socket = context.socket(zmq.REQ)\n",
    "  socket.setsockopt(zmq.IDENTITY, uuid.uuid4().bytes)\n",
    "  for port in ports:\n",
    "    socket.connect(f'tcp://localhost:{port}')\n",
    "  while True:\n",
    "    input_ = np.zeros(64)\n",
    "    socket.send(pack(input_))\n",
    "    result = unpack(socket.recv())\n",
    "\n",
    "def pack(array):\n",
    "  return msgpack.packb((array.shape, str(array.dtype), array.tobytes()))\n",
    "\n",
    "def unpack(buffer):\n",
    "  shape, dtype, value = msgpack.unpackb(buffer)\n",
    "  return np.frombuffer(value, dtype).reshape(shape)\n",
    "\n",
    "if __name__ == '__main__':\n",
    "  num_clients = 100\n",
    "  num_servers = 3\n",
    "  ports = list(range(5550, 5550 + num_servers))\n",
    "  for port in ports:\n",
    "    mp.Process(target=server, args=(port,)).start()\n",
    "  for _ in range(num_clients):\n",
    "    mp.Process(target=client, args=(ports,)).start()"
   ]
  },
  {
   "cell_type": "code",
   "execution_count": null,
   "metadata": {},
   "outputs": [],
   "source": [
    "import torch\n",
    "from yacgo.models import ViTWrapper, InferenceLocal\n"
   ]
  }
 ],
 "metadata": {
  "kernelspec": {
   "display_name": ".env",
   "language": "python",
   "name": "python3"
  },
  "language_info": {
   "codemirror_mode": {
    "name": "ipython",
    "version": 3
   },
   "file_extension": ".py",
   "mimetype": "text/x-python",
   "name": "python",
   "nbconvert_exporter": "python",
   "pygments_lexer": "ipython3",
   "version": "3.10.13"
  }
 },
 "nbformat": 4,
 "nbformat_minor": 2
}
